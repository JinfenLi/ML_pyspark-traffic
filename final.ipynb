{
 "cells": [
  {
   "cell_type": "code",
   "execution_count": 1,
   "metadata": {},
   "outputs": [],
   "source": [
    "import pyspark\n",
    "from pyspark.ml import clustering\n",
    "from pyspark.sql import SparkSession\n",
    "from pyspark.ml import feature, regression, evaluation, Pipeline\n",
    "from pyspark.sql import functions as fn, Row\n",
    "\n",
    "from pyspark.sql.functions import when, lit, col,isnull,split, udf\n",
    "from pyspark.ml.feature import StringIndexer, OneHotEncoderEstimator, VectorAssembler, OneHotEncoder\n",
    "from pyspark.sql.functions import year, month, dayofmonth, hour\n",
    "from pyspark.ml.feature import Bucketizer\n",
    "from pyspark.sql.types import *\n",
    "from pyspark.sql.types import IntegerType\n",
    "from pyspark.ml.feature import PCA\n",
    "from pyspark.ml.classification import LogisticRegression, RandomForestClassifier\n",
    "from pyspark.ml import classification\n",
    "from pyspark.ml.evaluation import BinaryClassificationEvaluator, MulticlassClassificationEvaluator, RegressionEvaluator\n",
    "\n",
    "import matplotlib.pyplot as plt\n",
    "import pandas as pd\n",
    "\n",
    "from ipywidgets import widgets\n",
    "from IPython.display import display\n",
    "\n",
    "spark = SparkSession.builder.getOrCreate()\n",
    "sc = spark.sparkContext"
   ]
  },
  {
   "cell_type": "code",
   "execution_count": 2,
   "metadata": {},
   "outputs": [],
   "source": [
    "#Read the csv file\n",
    "data = spark.read.csv('data.csv',inferSchema=True, header=True)"
   ]
  },
  {
   "cell_type": "code",
   "execution_count": 3,
   "metadata": {},
   "outputs": [
    {
     "name": "stdout",
     "output_type": "stream",
     "text": [
      "root\n",
      " |-- Year: integer (nullable = true)\n",
      " |-- Crash Descriptor: string (nullable = true)\n",
      " |-- Time: string (nullable = true)\n",
      " |-- Date: string (nullable = true)\n",
      " |-- Day of Week: string (nullable = true)\n",
      " |-- Police Report: string (nullable = true)\n",
      " |-- Lighting Conditions: string (nullable = true)\n",
      " |-- Municipality: string (nullable = true)\n",
      " |-- Collision Type Descriptor: string (nullable = true)\n",
      " |-- County Name: string (nullable = true)\n",
      " |-- Road Descriptor: string (nullable = true)\n",
      " |-- Weather Conditions: string (nullable = true)\n",
      " |-- Traffic Control Device: string (nullable = true)\n",
      " |-- Road Surface Conditions: string (nullable = true)\n",
      " |-- DOT Reference Marker Location: string (nullable = true)\n",
      " |-- Pedestrian Bicyclist Action: string (nullable = true)\n",
      " |-- Event Descriptor: string (nullable = true)\n",
      " |-- Number of Vehicles Involved: integer (nullable = true)\n",
      "\n"
     ]
    }
   ],
   "source": [
    "data.printSchema()"
   ]
  },
  {
   "cell_type": "code",
   "execution_count": 4,
   "metadata": {},
   "outputs": [],
   "source": [
    "# Label the rows with injury accident = 1 and property damage accident = 0\n",
    "df = data.withColumn('AccidentDescriptor', \n",
    "                     when((data['Crash Descriptor'] == 'Property Damage & Injury Accident') | \n",
    "                          (data['Crash Descriptor'] == 'Injury Accident')| \n",
    "                          (data['Crash Descriptor'] == 'Fatal Accident'), 1).otherwise(0))"
   ]
  },
  {
   "cell_type": "code",
   "execution_count": 5,
   "metadata": {},
   "outputs": [],
   "source": [
    "## HOUR BUCKET\n",
    "\n",
    "#Extract the hour from the time column\n",
    "df = df.withColumn('Hour', hour('Time'))\n",
    "\n",
    "#Bucket the hour column: \n",
    "# 5 Buckets: 0-4a.m. = 0.0, 5-11 = 1.0, 12-16 = 2.0, 17-22 = 3.0, 23-34 = 4.0\n",
    "# 5 Buckets: 0-4 = Night, 5-11 = Morning, 12-16 = Afternoon, 17-22 = Evening, 23-24 = Night\n",
    "\n",
    "bucketizer = Bucketizer(splits=[0,5,12,17,23,24],inputCol=\"Hour\", outputCol=\"Hour_buckets\")\n",
    "df = bucketizer.setHandleInvalid(\"keep\").transform(df)\n",
    "\n",
    "# convert 5 buckets into 4 buckets (we have twice Night): 1.0 = Morning, 2.0 = Afternoon, 3.0 = Evening, 4.0 = Night\n",
    "t = {0.0:4, 1.0: 1, 2.0: 2, 3.0: 3, 4.0: 4}\n",
    "udf_foo = udf(lambda x: t[x], IntegerType())\n",
    "df = df.withColumn(\"Hour\", udf_foo(\"Hour_buckets\"))\n",
    "\n",
    "#Extract the month from the Date column\n",
    "df = df.withColumn('Month', split(df['Date'], '/')[0])\n",
    "df = df.withColumn('Month',df.Month.cast('int'))\n"
   ]
  },
  {
   "cell_type": "code",
   "execution_count": 6,
   "metadata": {},
   "outputs": [],
   "source": [
    "# removing features\n",
    "df= df.drop('Time','Date','Hour_buckets','Municipality','DOT Reference Marker Location', 'Crash Descriptor',\n",
    "            'Number of Vehicles Involved', 'Year', 'Police Report', 'Pedestrian Bicyclist Action', 'Event Descriptor', 'Collision Type Descriptor', 'Traffic Control Device')\n",
    "\n",
    "# let us take a look at it with pandas\n",
    "df_pd = df.toPandas()"
   ]
  },
  {
   "cell_type": "code",
   "execution_count": 7,
   "metadata": {
    "scrolled": true
   },
   "outputs": [
    {
     "data": {
      "text/html": [
       "<div>\n",
       "<style scoped>\n",
       "    .dataframe tbody tr th:only-of-type {\n",
       "        vertical-align: middle;\n",
       "    }\n",
       "\n",
       "    .dataframe tbody tr th {\n",
       "        vertical-align: top;\n",
       "    }\n",
       "\n",
       "    .dataframe thead th {\n",
       "        text-align: right;\n",
       "    }\n",
       "</style>\n",
       "<table border=\"1\" class=\"dataframe\">\n",
       "  <thead>\n",
       "    <tr style=\"text-align: right;\">\n",
       "      <th></th>\n",
       "      <th>0</th>\n",
       "      <th>1</th>\n",
       "      <th>2</th>\n",
       "      <th>3</th>\n",
       "      <th>4</th>\n",
       "      <th>5</th>\n",
       "      <th>6</th>\n",
       "      <th>7</th>\n",
       "      <th>8</th>\n",
       "      <th>9</th>\n",
       "      <th>...</th>\n",
       "      <th>895906</th>\n",
       "      <th>895907</th>\n",
       "      <th>895908</th>\n",
       "      <th>895909</th>\n",
       "      <th>895910</th>\n",
       "      <th>895911</th>\n",
       "      <th>895912</th>\n",
       "      <th>895913</th>\n",
       "      <th>895914</th>\n",
       "      <th>895915</th>\n",
       "    </tr>\n",
       "  </thead>\n",
       "  <tbody>\n",
       "    <tr>\n",
       "      <th>Day of Week</th>\n",
       "      <td>Saturday</td>\n",
       "      <td>Saturday</td>\n",
       "      <td>Saturday</td>\n",
       "      <td>Saturday</td>\n",
       "      <td>Saturday</td>\n",
       "      <td>Saturday</td>\n",
       "      <td>Saturday</td>\n",
       "      <td>Saturday</td>\n",
       "      <td>Saturday</td>\n",
       "      <td>Saturday</td>\n",
       "      <td>...</td>\n",
       "      <td>Wednesday</td>\n",
       "      <td>Wednesday</td>\n",
       "      <td>Wednesday</td>\n",
       "      <td>Wednesday</td>\n",
       "      <td>Wednesday</td>\n",
       "      <td>Wednesday</td>\n",
       "      <td>Wednesday</td>\n",
       "      <td>Wednesday</td>\n",
       "      <td>Wednesday</td>\n",
       "      <td>Wednesday</td>\n",
       "    </tr>\n",
       "    <tr>\n",
       "      <th>Lighting Conditions</th>\n",
       "      <td>Dark-Road Unlighted</td>\n",
       "      <td>Dark-Road Unlighted</td>\n",
       "      <td>Daylight</td>\n",
       "      <td>Unknown</td>\n",
       "      <td>Daylight</td>\n",
       "      <td>Dusk</td>\n",
       "      <td>Daylight</td>\n",
       "      <td>Daylight</td>\n",
       "      <td>Daylight</td>\n",
       "      <td>Dark-Road Lighted</td>\n",
       "      <td>...</td>\n",
       "      <td>Dark-Road Unlighted</td>\n",
       "      <td>Daylight</td>\n",
       "      <td>Dark-Road Lighted</td>\n",
       "      <td>Dark-Road Lighted</td>\n",
       "      <td>Daylight</td>\n",
       "      <td>Dark-Road Lighted</td>\n",
       "      <td>Unknown</td>\n",
       "      <td>Daylight</td>\n",
       "      <td>Daylight</td>\n",
       "      <td>Daylight</td>\n",
       "    </tr>\n",
       "    <tr>\n",
       "      <th>County Name</th>\n",
       "      <td>LEWIS</td>\n",
       "      <td>SUFFOLK</td>\n",
       "      <td>OTSEGO</td>\n",
       "      <td>KINGS</td>\n",
       "      <td>RENSSELAER</td>\n",
       "      <td>ERIE</td>\n",
       "      <td>ALBANY</td>\n",
       "      <td>WESTCHESTER</td>\n",
       "      <td>GREENE</td>\n",
       "      <td>NASSAU</td>\n",
       "      <td>...</td>\n",
       "      <td>OTSEGO</td>\n",
       "      <td>SUFFOLK</td>\n",
       "      <td>BRONX</td>\n",
       "      <td>KINGS</td>\n",
       "      <td>ERIE</td>\n",
       "      <td>ERIE</td>\n",
       "      <td>MONROE</td>\n",
       "      <td>ROCKLAND</td>\n",
       "      <td>QUEENS</td>\n",
       "      <td>SUFFOLK</td>\n",
       "    </tr>\n",
       "    <tr>\n",
       "      <th>Road Descriptor</th>\n",
       "      <td>Curve and Grade</td>\n",
       "      <td>Straight and Level</td>\n",
       "      <td>Straight and Level</td>\n",
       "      <td>Unknown</td>\n",
       "      <td>Straight and Grade</td>\n",
       "      <td>Straight and Grade</td>\n",
       "      <td>Curve and Level</td>\n",
       "      <td>Curve and Level</td>\n",
       "      <td>Straight at Hill Crest</td>\n",
       "      <td>Straight and Level</td>\n",
       "      <td>...</td>\n",
       "      <td>Curve and Level</td>\n",
       "      <td>Straight and Level</td>\n",
       "      <td>Straight at Hill Crest</td>\n",
       "      <td>Straight and Level</td>\n",
       "      <td>Curve and Level</td>\n",
       "      <td>Straight and Level</td>\n",
       "      <td>Unknown</td>\n",
       "      <td>Straight and Level</td>\n",
       "      <td>Straight and Level</td>\n",
       "      <td>Straight and Level</td>\n",
       "    </tr>\n",
       "    <tr>\n",
       "      <th>Weather Conditions</th>\n",
       "      <td>Cloudy</td>\n",
       "      <td>Clear</td>\n",
       "      <td>Cloudy</td>\n",
       "      <td>Unknown</td>\n",
       "      <td>Clear</td>\n",
       "      <td>Clear</td>\n",
       "      <td>Clear</td>\n",
       "      <td>Clear</td>\n",
       "      <td>Cloudy</td>\n",
       "      <td>Clear</td>\n",
       "      <td>...</td>\n",
       "      <td>Snow</td>\n",
       "      <td>Clear</td>\n",
       "      <td>Clear</td>\n",
       "      <td>Clear</td>\n",
       "      <td>Clear</td>\n",
       "      <td>Clear</td>\n",
       "      <td>Unknown</td>\n",
       "      <td>Clear</td>\n",
       "      <td>Clear</td>\n",
       "      <td>Cloudy</td>\n",
       "    </tr>\n",
       "    <tr>\n",
       "      <th>Road Surface Conditions</th>\n",
       "      <td>Wet</td>\n",
       "      <td>Dry</td>\n",
       "      <td>Wet</td>\n",
       "      <td>Unknown</td>\n",
       "      <td>Dry</td>\n",
       "      <td>Snow/Ice</td>\n",
       "      <td>Snow/Ice</td>\n",
       "      <td>Dry</td>\n",
       "      <td>Snow/Ice</td>\n",
       "      <td>Dry</td>\n",
       "      <td>...</td>\n",
       "      <td>Snow/Ice</td>\n",
       "      <td>Dry</td>\n",
       "      <td>Dry</td>\n",
       "      <td>Dry</td>\n",
       "      <td>Snow/Ice</td>\n",
       "      <td>Wet</td>\n",
       "      <td>Unknown</td>\n",
       "      <td>Dry</td>\n",
       "      <td>Dry</td>\n",
       "      <td>Dry</td>\n",
       "    </tr>\n",
       "    <tr>\n",
       "      <th>AccidentDescriptor</th>\n",
       "      <td>0</td>\n",
       "      <td>0</td>\n",
       "      <td>1</td>\n",
       "      <td>1</td>\n",
       "      <td>0</td>\n",
       "      <td>0</td>\n",
       "      <td>1</td>\n",
       "      <td>1</td>\n",
       "      <td>0</td>\n",
       "      <td>1</td>\n",
       "      <td>...</td>\n",
       "      <td>0</td>\n",
       "      <td>0</td>\n",
       "      <td>1</td>\n",
       "      <td>0</td>\n",
       "      <td>0</td>\n",
       "      <td>1</td>\n",
       "      <td>0</td>\n",
       "      <td>1</td>\n",
       "      <td>0</td>\n",
       "      <td>0</td>\n",
       "    </tr>\n",
       "    <tr>\n",
       "      <th>Hour</th>\n",
       "      <td>3</td>\n",
       "      <td>1</td>\n",
       "      <td>1</td>\n",
       "      <td>2</td>\n",
       "      <td>1</td>\n",
       "      <td>3</td>\n",
       "      <td>1</td>\n",
       "      <td>2</td>\n",
       "      <td>2</td>\n",
       "      <td>3</td>\n",
       "      <td>...</td>\n",
       "      <td>3</td>\n",
       "      <td>1</td>\n",
       "      <td>3</td>\n",
       "      <td>1</td>\n",
       "      <td>1</td>\n",
       "      <td>4</td>\n",
       "      <td>3</td>\n",
       "      <td>2</td>\n",
       "      <td>1</td>\n",
       "      <td>2</td>\n",
       "    </tr>\n",
       "    <tr>\n",
       "      <th>Month</th>\n",
       "      <td>12</td>\n",
       "      <td>12</td>\n",
       "      <td>12</td>\n",
       "      <td>12</td>\n",
       "      <td>12</td>\n",
       "      <td>12</td>\n",
       "      <td>12</td>\n",
       "      <td>12</td>\n",
       "      <td>12</td>\n",
       "      <td>12</td>\n",
       "      <td>...</td>\n",
       "      <td>1</td>\n",
       "      <td>1</td>\n",
       "      <td>1</td>\n",
       "      <td>1</td>\n",
       "      <td>1</td>\n",
       "      <td>1</td>\n",
       "      <td>1</td>\n",
       "      <td>1</td>\n",
       "      <td>1</td>\n",
       "      <td>1</td>\n",
       "    </tr>\n",
       "  </tbody>\n",
       "</table>\n",
       "<p>9 rows × 895916 columns</p>\n",
       "</div>"
      ],
      "text/plain": [
       "                                      0                    1       \\\n",
       "Day of Week                         Saturday             Saturday   \n",
       "Lighting Conditions      Dark-Road Unlighted  Dark-Road Unlighted   \n",
       "County Name                            LEWIS              SUFFOLK   \n",
       "Road Descriptor              Curve and Grade   Straight and Level   \n",
       "Weather Conditions                    Cloudy                Clear   \n",
       "Road Surface Conditions                  Wet                  Dry   \n",
       "AccidentDescriptor                         0                    0   \n",
       "Hour                                       3                    1   \n",
       "Month                                     12                   12   \n",
       "\n",
       "                                     2         3                   4       \\\n",
       "Day of Week                        Saturday  Saturday            Saturday   \n",
       "Lighting Conditions                Daylight   Unknown            Daylight   \n",
       "County Name                          OTSEGO     KINGS          RENSSELAER   \n",
       "Road Descriptor          Straight and Level   Unknown  Straight and Grade   \n",
       "Weather Conditions                   Cloudy   Unknown               Clear   \n",
       "Road Surface Conditions                 Wet   Unknown                 Dry   \n",
       "AccidentDescriptor                        1         1                   0   \n",
       "Hour                                      1         2                   1   \n",
       "Month                                    12        12                  12   \n",
       "\n",
       "                                     5                6                7       \\\n",
       "Day of Week                        Saturday         Saturday         Saturday   \n",
       "Lighting Conditions                    Dusk         Daylight         Daylight   \n",
       "County Name                            ERIE           ALBANY      WESTCHESTER   \n",
       "Road Descriptor          Straight and Grade  Curve and Level  Curve and Level   \n",
       "Weather Conditions                    Clear            Clear            Clear   \n",
       "Road Surface Conditions            Snow/Ice         Snow/Ice              Dry   \n",
       "AccidentDescriptor                        0                1                1   \n",
       "Hour                                      3                1                2   \n",
       "Month                                    12               12               12   \n",
       "\n",
       "                                         8                   9       ...  \\\n",
       "Day of Week                            Saturday            Saturday  ...   \n",
       "Lighting Conditions                    Daylight   Dark-Road Lighted  ...   \n",
       "County Name                              GREENE              NASSAU  ...   \n",
       "Road Descriptor          Straight at Hill Crest  Straight and Level  ...   \n",
       "Weather Conditions                       Cloudy               Clear  ...   \n",
       "Road Surface Conditions                Snow/Ice                 Dry  ...   \n",
       "AccidentDescriptor                            0                   1  ...   \n",
       "Hour                                          2                   3  ...   \n",
       "Month                                        12                  12  ...   \n",
       "\n",
       "                                      895906              895907  \\\n",
       "Day of Week                        Wednesday           Wednesday   \n",
       "Lighting Conditions      Dark-Road Unlighted            Daylight   \n",
       "County Name                           OTSEGO             SUFFOLK   \n",
       "Road Descriptor              Curve and Level  Straight and Level   \n",
       "Weather Conditions                      Snow               Clear   \n",
       "Road Surface Conditions             Snow/Ice                 Dry   \n",
       "AccidentDescriptor                         0                   0   \n",
       "Hour                                       3                   1   \n",
       "Month                                      1                   1   \n",
       "\n",
       "                                         895908              895909  \\\n",
       "Day of Week                           Wednesday           Wednesday   \n",
       "Lighting Conditions           Dark-Road Lighted   Dark-Road Lighted   \n",
       "County Name                               BRONX               KINGS   \n",
       "Road Descriptor          Straight at Hill Crest  Straight and Level   \n",
       "Weather Conditions                        Clear               Clear   \n",
       "Road Surface Conditions                     Dry                 Dry   \n",
       "AccidentDescriptor                            1                   0   \n",
       "Hour                                          3                   1   \n",
       "Month                                         1                   1   \n",
       "\n",
       "                                  895910              895911     895912  \\\n",
       "Day of Week                    Wednesday           Wednesday  Wednesday   \n",
       "Lighting Conditions             Daylight   Dark-Road Lighted    Unknown   \n",
       "County Name                         ERIE                ERIE     MONROE   \n",
       "Road Descriptor          Curve and Level  Straight and Level    Unknown   \n",
       "Weather Conditions                 Clear               Clear    Unknown   \n",
       "Road Surface Conditions         Snow/Ice                 Wet    Unknown   \n",
       "AccidentDescriptor                     0                   1          0   \n",
       "Hour                                   1                   4          3   \n",
       "Month                                  1                   1          1   \n",
       "\n",
       "                                     895913              895914  \\\n",
       "Day of Week                       Wednesday           Wednesday   \n",
       "Lighting Conditions                Daylight            Daylight   \n",
       "County Name                        ROCKLAND              QUEENS   \n",
       "Road Descriptor          Straight and Level  Straight and Level   \n",
       "Weather Conditions                    Clear               Clear   \n",
       "Road Surface Conditions                 Dry                 Dry   \n",
       "AccidentDescriptor                        1                   0   \n",
       "Hour                                      2                   1   \n",
       "Month                                     1                   1   \n",
       "\n",
       "                                     895915  \n",
       "Day of Week                       Wednesday  \n",
       "Lighting Conditions                Daylight  \n",
       "County Name                         SUFFOLK  \n",
       "Road Descriptor          Straight and Level  \n",
       "Weather Conditions                   Cloudy  \n",
       "Road Surface Conditions                 Dry  \n",
       "AccidentDescriptor                        0  \n",
       "Hour                                      2  \n",
       "Month                                     1  \n",
       "\n",
       "[9 rows x 895916 columns]"
      ]
     },
     "execution_count": 7,
     "metadata": {},
     "output_type": "execute_result"
    }
   ],
   "source": [
    "# display table\n",
    "df_pd.T"
   ]
  },
  {
   "cell_type": "code",
   "execution_count": 8,
   "metadata": {},
   "outputs": [
    {
     "data": {
      "text/plain": [
       "['Day of Week',\n",
       " 'Lighting Conditions',\n",
       " 'County Name',\n",
       " 'Road Descriptor',\n",
       " 'Weather Conditions',\n",
       " 'Road Surface Conditions',\n",
       " 'AccidentDescriptor',\n",
       " 'Hour',\n",
       " 'Month']"
      ]
     },
     "execution_count": 8,
     "metadata": {},
     "output_type": "execute_result"
    }
   ],
   "source": [
    "df.columns"
   ]
  },
  {
   "cell_type": "code",
   "execution_count": 9,
   "metadata": {},
   "outputs": [],
   "source": [
    "#Using StringIndexer to change the column as categorical variable \n",
    "#or to convert the textual data to numeric data keeping the categorical context.\n",
    "\n",
    "pipe_feat= Pipeline(stages=[StringIndexer(inputCol = 'Day of Week', outputCol = 'Day of Week_index'),\n",
    "                           StringIndexer(inputCol = 'Lighting Conditions', outputCol = 'Lighting Conditions_index'),\n",
    "                           StringIndexer(inputCol = 'County Name', outputCol = 'County Name_index'),\n",
    "                           StringIndexer(inputCol = 'Road Descriptor', outputCol = 'Road Descriptor_index'),\n",
    "                           StringIndexer(inputCol = 'Weather Conditions', outputCol = 'Weather Conditions_index'),\n",
    "                            StringIndexer(inputCol = 'Road Surface Conditions', outputCol = 'Road Surface Conditions_index'),\n",
    "                    OneHotEncoder(inputCol = 'Day of Week_index', outputCol = 'Day of Week_feat', dropLast=False),\n",
    "                           OneHotEncoder(inputCol = 'Lighting Conditions_index', outputCol = 'Lighting Conditions_feat', dropLast=False),\n",
    "                           OneHotEncoder(inputCol = 'County Name_index', outputCol = 'County Name_feat', dropLast=False),\n",
    "                           OneHotEncoder(inputCol = 'Road Descriptor_index', outputCol = 'Road Descriptor_feat', dropLast=False),\n",
    "                           OneHotEncoder(inputCol = 'Weather Conditions_index', outputCol = 'Weather Conditions_feat', dropLast=False),\n",
    "                            OneHotEncoder(inputCol = 'Road Surface Conditions_index', outputCol = 'Road Surface Conditions_feat', dropLast=False),\n",
    "                            OneHotEncoder(inputCol = 'Hour', outputCol = 'Hour_feat', dropLast=False),\n",
    "                            OneHotEncoder(inputCol = 'Month', outputCol = 'Month_feat', dropLast=False),\n",
    "            \n",
    "                           VectorAssembler(inputCols=['Hour','Month','Day of Week_feat','Lighting Conditions_feat',\n",
    "                                                    'County Name_feat', 'Road Descriptor_feat','Weather Conditions_feat',\n",
    "                                                     'Road Surface Conditions_feat'], outputCol = 'features',handleInvalid=\"keep\")]).fit(df)"
   ]
  },
  {
   "cell_type": "code",
   "execution_count": 10,
   "metadata": {},
   "outputs": [],
   "source": [
    "df_feat = pipe_feat.transform(df)"
   ]
  },
  {
   "cell_type": "code",
   "execution_count": 11,
   "metadata": {},
   "outputs": [],
   "source": [
    "training_df, validation_df, testing_df = df_feat.randomSplit([0.6, 0.3, 0.1], seed=0)"
   ]
  },
  {
   "cell_type": "code",
   "execution_count": 12,
   "metadata": {},
   "outputs": [],
   "source": [
    "pipe_lr = Pipeline(stages=[classification.LogisticRegression(labelCol='AccidentDescriptor', featuresCol='features',regParam = 0.1,elasticNetParam = 0.001)])"
   ]
  },
  {
   "cell_type": "code",
   "execution_count": 13,
   "metadata": {},
   "outputs": [],
   "source": [
    "pipe_rf = Pipeline(stages=[classification.RandomForestClassifier(labelCol='AccidentDescriptor', featuresCol='features',numTrees = 20,maxDepth = 6)])\n"
   ]
  },
  {
   "cell_type": "code",
   "execution_count": 14,
   "metadata": {},
   "outputs": [],
   "source": [
    "pipe_gbt = Pipeline(stages=[classification.GBTClassifier(labelCol='AccidentDescriptor', featuresCol='features',maxIter = 10)])"
   ]
  },
  {
   "cell_type": "code",
   "execution_count": 15,
   "metadata": {},
   "outputs": [],
   "source": [
    "fit_lr = pipe_lr.fit(training_df)\n",
    "dataframe_lr = fit_lr.transform(validation_df)\n",
    "\n",
    "fit_rf = pipe_rf.fit(training_df)\n",
    "dataframe_rf = fit_rf.transform(validation_df)\n",
    "\n",
    "fit_gbt = pipe_gbt.fit(training_df)\n",
    "dataframe_gbt = fit_gbt.transform(validation_df)"
   ]
  },
  {
   "cell_type": "code",
   "execution_count": 16,
   "metadata": {},
   "outputs": [
    {
     "name": "stdout",
     "output_type": "stream",
     "text": [
      "The AUC of LR, RF, GBT is 0.6953318532549726, 0.6735366266918393, 0.6995029073118374\n"
     ]
    }
   ],
   "source": [
    "evaluator = evaluation.BinaryClassificationEvaluator(labelCol='AccidentDescriptor')\n",
    "AUC_LR = evaluator.evaluate(dataframe_lr)\n",
    "AUC_RF = evaluator.evaluate(dataframe_rf)\n",
    "AUC_GBT = evaluator.evaluate(dataframe_gbt)\n",
    "print(\"The AUC of LR, RF, GBT is %s, %s, %s\"%(AUC_LR,AUC_RF,AUC_GBT))"
   ]
  },
  {
   "cell_type": "code",
   "execution_count": 18,
   "metadata": {},
   "outputs": [],
   "source": [
    "df_feature =['Hour','Month']\n",
    "label1 = pipe_feat.stages[0].labels\n",
    "for i in label1:\n",
    "    lab1 = i.replace(' ','_')\n",
    "    df_feature.append('Day of Week_'+lab1)\n",
    "    \n",
    "label2 = pipe_feat.stages[1].labels\n",
    "for i in label2:\n",
    "    lab2 = i.replace(' ','_')\n",
    "    df_feature.append('Lighting Conditions_'+lab2)\n",
    "    \n",
    "\n",
    "label3 = pipe_feat.stages[2].labels\n",
    "for i in label3:\n",
    "    lab3 = i.replace(' ','_')\n",
    "    df_feature.append('County Name_'+lab3)\n",
    "    \n",
    "label4 = pipe_feat.stages[3].labels\n",
    "for i in label4:\n",
    "    lab4 = i.replace(' ','_')\n",
    "    df_feature.append('Road Descriptor_'+lab4)\n",
    "    \n",
    "label5 = pipe_feat.stages[4].labels\n",
    "for i in label5:\n",
    "    lab5= i.replace(' ','_')\n",
    "    df_feature.append('Weather Conditions_'+lab5)\n",
    "    \n",
    "label6 = pipe_feat.stages[5].labels\n",
    "for i in label6:\n",
    "    lab6= i.replace(' ','_')\n",
    "    df_feature.append('Road Surface Conditions_'+lab6)\n"
   ]
  },
  {
   "cell_type": "code",
   "execution_count": 19,
   "metadata": {},
   "outputs": [],
   "source": [
    "lrm = fit_lr.stages[-1]\n",
    "lrmcoeff = lrm.coefficients"
   ]
  },
  {
   "cell_type": "code",
   "execution_count": 20,
   "metadata": {
    "scrolled": true
   },
   "outputs": [
    {
     "name": "stdout",
     "output_type": "stream",
     "text": [
      "+--------------------------------------+--------------------+\n",
      "|feature                               |LR Coeff            |\n",
      "+--------------------------------------+--------------------+\n",
      "|County Name_KINGS                     |0.9754205417995916  |\n",
      "|County Name_BRONX                     |0.9724207022981526  |\n",
      "|County Name_QUEENS                    |0.8098447435670977  |\n",
      "|County Name_NEW_YORK                  |0.709201126897745   |\n",
      "|County Name_RICHMOND                  |0.6317184756888758  |\n",
      "|Lighting Conditions_Dark-Road_Lighted |0.18428283260442652 |\n",
      "|Lighting Conditions_Daylight          |0.09835893364600934 |\n",
      "|Road Descriptor_Curve_at_Hill_Crest   |0.0754186864325578  |\n",
      "|Weather Conditions_Rain               |0.07299653490220095 |\n",
      "|Road Surface Conditions_Dry           |0.06793049250368209 |\n",
      "|Road Descriptor_Straight_at_Hill_Crest|0.06759379476634327 |\n",
      "|Weather Conditions_Clear              |0.06640464155138967 |\n",
      "|Road Surface Conditions_Wet           |0.06633582508750095 |\n",
      "|Road Descriptor_Straight_and_Level    |0.05816041409543857 |\n",
      "|Road Descriptor_Curve_and_Grade       |0.0388255051917445  |\n",
      "|Day of Week_Sunday                    |0.028469619142465912|\n",
      "|Lighting Conditions_Dusk              |0.025075060099845115|\n",
      "|Day of Week_Saturday                  |0.011384261303988119|\n",
      "|Month                                 |0.005565048050808547|\n",
      "|Road Surface Conditions_Other         |0.0                 |\n",
      "+--------------------------------------+--------------------+\n",
      "only showing top 20 rows\n",
      "\n"
     ]
    }
   ],
   "source": [
    "lr_coeff_feature = spark.createDataFrame([(tup[0], float(tup[1])) for tup in list(zip(df_feature , lrmcoeff))],['feature', 'LR Coeff']).sort('LR Coeff', ascending=False)\n",
    "lr_coeff_feature.show(20,False)"
   ]
  },
  {
   "cell_type": "code",
   "execution_count": 21,
   "metadata": {},
   "outputs": [],
   "source": [
    "importance= fit_rf.stages[-1].featureImportances.toArray()"
   ]
  },
  {
   "cell_type": "code",
   "execution_count": 22,
   "metadata": {},
   "outputs": [],
   "source": [
    "feature_importance = spark.createDataFrame([(tup[0], float(tup[1])) for tup in list(zip(df_feature , importance))],['feature', 'importance']).sort('importance', ascending=False)\n",
    "\n",
    "# feature_importance =pd.DataFrame(list(zip(df_feature, importance)),columns = ['feature', 'importance']).sort_values('importance', ascending=False)"
   ]
  },
  {
   "cell_type": "code",
   "execution_count": 23,
   "metadata": {
    "scrolled": true
   },
   "outputs": [
    {
     "name": "stdout",
     "output_type": "stream",
     "text": [
      "+---------------------------------------+--------------------+\n",
      "|feature                                |importance          |\n",
      "+---------------------------------------+--------------------+\n",
      "|County Name_BRONX                      |0.175303294772216   |\n",
      "|County Name_KINGS                      |0.17117110329497942 |\n",
      "|County Name_QUEENS                     |0.13669897346109372 |\n",
      "|County Name_NEW_YORK                   |0.08455886438225978 |\n",
      "|Weather Conditions_Clear               |0.08076181120558883 |\n",
      "|Lighting Conditions_Dark-Road_Unlighted|0.07597921945921912 |\n",
      "|Lighting Conditions_Dark-Road_Lighted  |0.054754749283697036|\n",
      "|Road Descriptor_Straight_and_Level     |0.042996728683340917|\n",
      "|Weather Conditions_Snow                |0.03235317773272778 |\n",
      "|Road Surface Conditions_Snow/Ice       |0.016460813147570967|\n",
      "|Lighting Conditions_Unknown            |0.011526637634928208|\n",
      "|Weather Conditions_Cloudy              |0.009787047114071027|\n",
      "|Lighting Conditions_Daylight           |0.009448176521370862|\n",
      "|County Name_MONROE                     |0.008613945001031425|\n",
      "|Weather Conditions_Unknown             |0.008213320255430163|\n",
      "|Road Descriptor_Straight_and_Grade     |0.007965998348082964|\n",
      "|Road Surface Conditions_Dry            |0.00789050143048863 |\n",
      "|County Name_NASSAU                     |0.007543732149961943|\n",
      "|County Name_RICHMOND                   |0.006570528175477831|\n",
      "|County Name_ORANGE                     |0.006433979662317407|\n",
      "+---------------------------------------+--------------------+\n",
      "only showing top 20 rows\n",
      "\n"
     ]
    }
   ],
   "source": [
    "feature_importance.show(20,False)"
   ]
  },
  {
   "cell_type": "code",
   "execution_count": 24,
   "metadata": {},
   "outputs": [],
   "source": [
    "pipe_pca = Pipeline(stages=[feature.VectorAssembler(inputCols= ['Day of Week_feat',\n",
    " 'Lighting Conditions_feat',\n",
    " 'County Name_feat',\n",
    " 'Road Descriptor_feat',\n",
    " 'Weather Conditions_feat',\n",
    " 'Road Surface Conditions_feat',\n",
    " 'Hour',\n",
    " 'Month'], outputCol = 'pcafeatures'), feature.PCA(k=80, inputCol='pcafeatures',outputCol='pc')]).fit(df_feat)\n"
   ]
  },
  {
   "cell_type": "code",
   "execution_count": 25,
   "metadata": {},
   "outputs": [],
   "source": [
    "pc_80= pipe_pca.transform(df_feat)\n",
    "training_pc, validation_pc, testing_pc = pc_80.randomSplit([0.6, 0.3, 0.1], seed=0)"
   ]
  },
  {
   "cell_type": "code",
   "execution_count": 26,
   "metadata": {},
   "outputs": [
    {
     "data": {
      "text/plain": [
       "0.696579471357413"
      ]
     },
     "execution_count": 26,
     "metadata": {},
     "output_type": "execute_result"
    }
   ],
   "source": [
    "pipe_lr_pc = Pipeline(stages=[classification.LogisticRegression(labelCol='AccidentDescriptor', featuresCol='pc',regParam = 0.1,elasticNetParam = 0.001)]).fit(training_pc)\n",
    "pc_80_pred = pipe_lr_pc.transform(validation_pc)\n",
    "AUC_LR_pc = evaluator.evaluate(pc_80_pred)\n",
    "AUC_LR_pc"
   ]
  },
  {
   "cell_type": "code",
   "execution_count": 27,
   "metadata": {},
   "outputs": [
    {
     "data": {
      "text/plain": [
       "0.6887219040387068"
      ]
     },
     "execution_count": 27,
     "metadata": {},
     "output_type": "execute_result"
    }
   ],
   "source": [
    "pipe_rf_pc = Pipeline(stages=[classification.RandomForestClassifier(labelCol='AccidentDescriptor', featuresCol='pc',numTrees = 20,maxDepth = 6)]).fit(training_pc)\n",
    "pc_80_pred_rf = pipe_rf_pc.transform(validation_pc)\n",
    "AUC_RF_pc = evaluator.evaluate(pc_80_pred_rf)\n",
    "AUC_RF_pc"
   ]
  },
  {
   "cell_type": "code",
   "execution_count": 28,
   "metadata": {},
   "outputs": [
    {
     "data": {
      "text/plain": [
       "0.698921637184369"
      ]
     },
     "execution_count": 28,
     "metadata": {},
     "output_type": "execute_result"
    }
   ],
   "source": [
    "pipe_gbt_pc = Pipeline(stages=[classification.GBTClassifier(labelCol='AccidentDescriptor', featuresCol='pc',maxIter = 10)]).fit(training_pc)\n",
    "pc_80_pred_gbt = pipe_gbt_pc.transform(validation_pc)\n",
    "AUC_GBT_pc = evaluator.evaluate(pc_80_pred_gbt)\n",
    "AUC_GBT_pc"
   ]
  },
  {
   "cell_type": "code",
   "execution_count": 29,
   "metadata": {},
   "outputs": [],
   "source": [
    "pca_model = pipe_pca.stages[-1]\n",
    "pc1 = abs(pca_model.pc.toArray()[:, 0]).tolist()\n",
    "pc2 = abs(pca_model.pc.toArray()[:, 1]).tolist()\n",
    "pc1_df = spark.createDataFrame(list(zip(df_feature , pc1)),['feature', 'loadings']).sort('loadings', ascending=False)\n",
    "pc2_df = spark.createDataFrame(list(zip(df_feature , pc2)),['feature', 'loadings']).sort('loadings', ascending=False)"
   ]
  },
  {
   "cell_type": "code",
   "execution_count": 30,
   "metadata": {},
   "outputs": [
    {
     "name": "stdout",
     "output_type": "stream",
     "text": [
      "+-------------------------------------+--------------------+\n",
      "|feature                              |loadings            |\n",
      "+-------------------------------------+--------------------+\n",
      "|Road Surface Conditions_Flooded_Water|0.9993845006469853  |\n",
      "|Road Surface Conditions_Dry          |0.020384750500850733|\n",
      "|Weather Conditions_Fog/Smog/Smoke    |0.017510754436209756|\n",
      "|Weather Conditions_Rain              |0.011093253051689476|\n",
      "|Road Surface Conditions_Muddy        |0.010620202459730731|\n",
      "+-------------------------------------+--------------------+\n",
      "only showing top 5 rows\n",
      "\n"
     ]
    }
   ],
   "source": [
    "pc1_df.show(5,False)"
   ]
  },
  {
   "cell_type": "code",
   "execution_count": 31,
   "metadata": {},
   "outputs": [
    {
     "name": "stdout",
     "output_type": "stream",
     "text": [
      "+---------------------------------+-------------------+\n",
      "|feature                          |loadings           |\n",
      "+---------------------------------+-------------------+\n",
      "|Road Surface Conditions_Muddy    |0.9184183186056983 |\n",
      "|Day of Week_Saturday             |0.3156258768800851 |\n",
      "|Day of Week_Sunday               |0.17476911155549837|\n",
      "|Lighting Conditions_Daylight     |0.08819557375239975|\n",
      "|Weather Conditions_Fog/Smog/Smoke|0.04827834145251888|\n",
      "+---------------------------------+-------------------+\n",
      "only showing top 5 rows\n",
      "\n"
     ]
    }
   ],
   "source": [
    "pc2_df.show(5,False)"
   ]
  },
  {
   "cell_type": "code",
   "execution_count": 59,
   "metadata": {},
   "outputs": [],
   "source": [
    "# new pipleline for limited number of features\n",
    "\n",
    "#Using StringIndexer to change the column as categorical variable \n",
    "#or to convert the textual data to numeric data keeping the categorical context.\n",
    "\n",
    "pipe_feat_limited = Pipeline(stages=[StringIndexer(inputCol = 'Day of Week', outputCol = 'Day of Week_index'),\n",
    "                           StringIndexer(inputCol = 'Lighting Conditions', outputCol = 'Lighting Conditions_index'),\n",
    "                           StringIndexer(inputCol = 'County Name', outputCol = 'County Name_index'),\n",
    "                           StringIndexer(inputCol = 'Road Descriptor', outputCol = 'Road Descriptor_index'),\n",
    "                           StringIndexer(inputCol = 'Weather Conditions', outputCol = 'Weather Conditions_index'),\n",
    "                            StringIndexer(inputCol = 'Road Surface Conditions', outputCol = 'Road Surface Conditions_index'),\n",
    "                    OneHotEncoder(inputCol = 'Day of Week_index', outputCol = 'Day of Week_feat', dropLast=False),\n",
    "                           OneHotEncoder(inputCol = 'Lighting Conditions_index', outputCol = 'Lighting Conditions_feat', dropLast=False),\n",
    "                           OneHotEncoder(inputCol = 'County Name_index', outputCol = 'County Name_feat', dropLast=False),\n",
    "                           OneHotEncoder(inputCol = 'Road Descriptor_index', outputCol = 'Road Descriptor_feat', dropLast=False),\n",
    "                           OneHotEncoder(inputCol = 'Weather Conditions_index', outputCol = 'Weather Conditions_feat', dropLast=False),\n",
    "                            OneHotEncoder(inputCol = 'Road Surface Conditions_index', outputCol = 'Road Surface Conditions_feat', dropLast=False),\n",
    "                            OneHotEncoder(inputCol = 'Hour', outputCol = 'Hour_feat', dropLast=False),\n",
    "                            OneHotEncoder(inputCol = 'Month', outputCol = 'Month_feat', dropLast=False),\n",
    "            \n",
    "                           VectorAssembler(inputCols=['Hour','Month','Day of Week_feat','Lighting Conditions_feat',\n",
    "                                                    'County Name_feat', 'Road Descriptor_feat','Weather Conditions_feat',\n",
    "                                                     'Road Surface Conditions_feat'], outputCol = 'features_limited',handleInvalid=\"keep\")]).fit(df)\n",
    "df_feat_limited = pipe_feat.transform(df)\n",
    "\n",
    "pipe_pca_limited = Pipeline(stages=[feature.VectorAssembler(inputCols= ['Hour','Month','Day of Week_feat','Lighting Conditions_feat',\n",
    "                                                    'County Name_feat', 'Road Descriptor_feat','Weather Conditions_feat',\n",
    "                                                     'Road Surface Conditions_feat'], outputCol = 'pcafeatures'), feature.PCA(k=80, inputCol='pcafeatures',outputCol='pc')]).fit(df_feat_limited)\n"
   ]
  },
  {
   "cell_type": "code",
   "execution_count": 73,
   "metadata": {},
   "outputs": [
    {
     "name": "stdout",
     "output_type": "stream",
     "text": [
      "1. Please define the Time first: 1 = Morning, 2 = Afternoon, 3 = Evening, 4 = Night\n"
     ]
    },
    {
     "data": {
      "application/vnd.jupyter.widget-view+json": {
       "model_id": "0ac88af4ace34d9c85200ce3b424dae2",
       "version_major": 2,
       "version_minor": 0
      },
      "text/plain": [
       "IntSlider(value=4, continuous_update=False, description='Time:', max=4, min=1)"
      ]
     },
     "metadata": {},
     "output_type": "display_data"
    },
    {
     "name": "stdout",
     "output_type": "stream",
     "text": [
      "2. Please define the Month of the year\n"
     ]
    },
    {
     "data": {
      "application/vnd.jupyter.widget-view+json": {
       "model_id": "ffe1105557ba43f8be9a08424016dde4",
       "version_major": 2,
       "version_minor": 0
      },
      "text/plain": [
       "IntSlider(value=12, continuous_update=False, description='Month:', max=12, min=1)"
      ]
     },
     "metadata": {},
     "output_type": "display_data"
    },
    {
     "name": "stdout",
     "output_type": "stream",
     "text": [
      "3. Please choose the Day of the Week\n"
     ]
    },
    {
     "data": {
      "application/vnd.jupyter.widget-view+json": {
       "model_id": "f908d7878bcc48d89a4205309d0775c4",
       "version_major": 2,
       "version_minor": 0
      },
      "text/plain": [
       "Dropdown(description='Day of Week:', index=5, options=('Monday', 'Tuesday', 'Wednesday', 'Thursday', 'Friday',…"
      ]
     },
     "metadata": {},
     "output_type": "display_data"
    },
    {
     "name": "stdout",
     "output_type": "stream",
     "text": [
      "4. Please choose the Lighting Conditions\n"
     ]
    },
    {
     "data": {
      "application/vnd.jupyter.widget-view+json": {
       "model_id": "caedeb6a2a6b4e96b489ac38cf7b1c22",
       "version_major": 2,
       "version_minor": 0
      },
      "text/plain": [
       "Dropdown(description='Lighting:', index=2, options=('Daylight', 'Dark-Road Lighted', 'Dark-Road Unlighted', 'U…"
      ]
     },
     "metadata": {},
     "output_type": "display_data"
    },
    {
     "name": "stdout",
     "output_type": "stream",
     "text": [
      "5. Please choose the County\n"
     ]
    },
    {
     "data": {
      "application/vnd.jupyter.widget-view+json": {
       "model_id": "0774b9b594ee462c8f02fdab5ddb2fd2",
       "version_major": 2,
       "version_minor": 0
      },
      "text/plain": [
       "Dropdown(description='County:', index=2, options=('NASSAU', 'SUFFOLK', 'QUEENS', 'KINGS', 'ERIE', 'WESTCHESTER…"
      ]
     },
     "metadata": {},
     "output_type": "display_data"
    },
    {
     "name": "stdout",
     "output_type": "stream",
     "text": [
      "6. Please choose the Road Type\n"
     ]
    },
    {
     "data": {
      "application/vnd.jupyter.widget-view+json": {
       "model_id": "8fc468fea85b4d82a7dc16579e6588b8",
       "version_major": 2,
       "version_minor": 0
      },
      "text/plain": [
       "Dropdown(description='Road:', options=('Straight and Level', 'Straight and Grade', 'Unknown', 'Curve and Level…"
      ]
     },
     "metadata": {},
     "output_type": "display_data"
    },
    {
     "name": "stdout",
     "output_type": "stream",
     "text": [
      "7. Please choose the Weather\n"
     ]
    },
    {
     "data": {
      "application/vnd.jupyter.widget-view+json": {
       "model_id": "6959a70894694a7095c17507421bc4a8",
       "version_major": 2,
       "version_minor": 0
      },
      "text/plain": [
       "Dropdown(description='Weather:', index=2, options=('Clear', 'Cloudy', 'Rain', 'Unknown', 'Snow', 'Sleet/Hail/F…"
      ]
     },
     "metadata": {},
     "output_type": "display_data"
    },
    {
     "name": "stdout",
     "output_type": "stream",
     "text": [
      "8. Please choose the Road Surface Conditions\n"
     ]
    },
    {
     "data": {
      "application/vnd.jupyter.widget-view+json": {
       "model_id": "c1bbff69df4a487aae8f835f66f00147",
       "version_major": 2,
       "version_minor": 0
      },
      "text/plain": [
       "Dropdown(description='Road:', index=1, options=('Dry', 'Wet', 'Snow/Ice', 'Unknown', 'Slush', 'Other', 'Muddy'…"
      ]
     },
     "metadata": {},
     "output_type": "display_data"
    }
   ],
   "source": [
    "print(\"1. Please define the Time first: 1 = Morning, 2 = Afternoon, 3 = Evening, 4 = Night\")\n",
    "display(time)\n",
    "print(\"2. Please define the Month of the year\")\n",
    "display(month)\n",
    "print(\"3. Please choose the Day of the Week\")\n",
    "display(day)\n",
    "print(\"4. Please choose the Lighting Conditions\")\n",
    "display(light)\n",
    "print(\"5. Please choose the County\")\n",
    "display(county)\n",
    "print(\"6. Please choose the Road Type\")\n",
    "display(road1)\n",
    "print(\"7. Please choose the Weather\")\n",
    "display(weather)\n",
    "print(\"8. Please choose the Road Surface Conditions\")\n",
    "display(road2)"
   ]
  },
  {
   "cell_type": "code",
   "execution_count": 74,
   "metadata": {},
   "outputs": [],
   "source": [
    "time1 = str(time.value)\n",
    "time1 = int(time1)\n",
    "month1 = str(month.value)\n",
    "month1 = int(month1)\n",
    "day1 = str(day.value)\n",
    "light1 = str(light.value)\n",
    "county1 = str(county.value)\n",
    "road11 = str(road1.value)\n",
    "weather1 = str(weather.value)\n",
    "road22 = str(road2.value)"
   ]
  },
  {
   "cell_type": "code",
   "execution_count": 75,
   "metadata": {},
   "outputs": [],
   "source": [
    "test_df = spark.createDataFrame([(time1, month1 , day1, light1 , county1 , road11, weather1, road22)], \n",
    "    [ 'Hour', 'Month', 'Day of Week',\n",
    " 'Lighting Conditions',\n",
    " 'County Name',\n",
    " 'Road Descriptor',\n",
    " 'Weather Conditions',\n",
    " 'Road Surface Conditions'])\n"
   ]
  },
  {
   "cell_type": "code",
   "execution_count": 76,
   "metadata": {},
   "outputs": [],
   "source": [
    "test_df_pd = test_df.toPandas()"
   ]
  },
  {
   "cell_type": "code",
   "execution_count": 77,
   "metadata": {},
   "outputs": [
    {
     "data": {
      "text/html": [
       "<div>\n",
       "<style scoped>\n",
       "    .dataframe tbody tr th:only-of-type {\n",
       "        vertical-align: middle;\n",
       "    }\n",
       "\n",
       "    .dataframe tbody tr th {\n",
       "        vertical-align: top;\n",
       "    }\n",
       "\n",
       "    .dataframe thead th {\n",
       "        text-align: right;\n",
       "    }\n",
       "</style>\n",
       "<table border=\"1\" class=\"dataframe\">\n",
       "  <thead>\n",
       "    <tr style=\"text-align: right;\">\n",
       "      <th></th>\n",
       "      <th>Hour</th>\n",
       "      <th>Month</th>\n",
       "      <th>Day of Week</th>\n",
       "      <th>Lighting Conditions</th>\n",
       "      <th>County Name</th>\n",
       "      <th>Road Descriptor</th>\n",
       "      <th>Weather Conditions</th>\n",
       "      <th>Road Surface Conditions</th>\n",
       "    </tr>\n",
       "  </thead>\n",
       "  <tbody>\n",
       "    <tr>\n",
       "      <th>0</th>\n",
       "      <td>4</td>\n",
       "      <td>12</td>\n",
       "      <td>Saturday</td>\n",
       "      <td>Dark-Road Unlighted</td>\n",
       "      <td>QUEENS</td>\n",
       "      <td>Straight and Level</td>\n",
       "      <td>Rain</td>\n",
       "      <td>Wet</td>\n",
       "    </tr>\n",
       "  </tbody>\n",
       "</table>\n",
       "</div>"
      ],
      "text/plain": [
       "   Hour  Month Day of Week  Lighting Conditions County Name  \\\n",
       "0     4     12    Saturday  Dark-Road Unlighted      QUEENS   \n",
       "\n",
       "      Road Descriptor Weather Conditions Road Surface Conditions  \n",
       "0  Straight and Level               Rain                     Wet  "
      ]
     },
     "execution_count": 77,
     "metadata": {},
     "output_type": "execute_result"
    }
   ],
   "source": [
    "test_df_pd"
   ]
  },
  {
   "cell_type": "code",
   "execution_count": 78,
   "metadata": {},
   "outputs": [],
   "source": [
    "test_feat = pipe_feat_limited.transform(test_df)"
   ]
  },
  {
   "cell_type": "code",
   "execution_count": 79,
   "metadata": {},
   "outputs": [],
   "source": [
    "pc_test = pipe_pca_limited.transform(test_feat)"
   ]
  },
  {
   "cell_type": "code",
   "execution_count": 80,
   "metadata": {},
   "outputs": [],
   "source": [
    "pred = pipe_rf_pc.transform(pc_test)"
   ]
  },
  {
   "cell_type": "code",
   "execution_count": 81,
   "metadata": {},
   "outputs": [],
   "source": [
    "probability = pred.select('probability').toPandas()"
   ]
  },
  {
   "cell_type": "code",
   "execution_count": 82,
   "metadata": {},
   "outputs": [
    {
     "data": {
      "text/html": [
       "<div>\n",
       "<style scoped>\n",
       "    .dataframe tbody tr th:only-of-type {\n",
       "        vertical-align: middle;\n",
       "    }\n",
       "\n",
       "    .dataframe tbody tr th {\n",
       "        vertical-align: top;\n",
       "    }\n",
       "\n",
       "    .dataframe thead th {\n",
       "        text-align: right;\n",
       "    }\n",
       "</style>\n",
       "<table border=\"1\" class=\"dataframe\">\n",
       "  <thead>\n",
       "    <tr style=\"text-align: right;\">\n",
       "      <th></th>\n",
       "      <th>probability</th>\n",
       "    </tr>\n",
       "  </thead>\n",
       "  <tbody>\n",
       "    <tr>\n",
       "      <th>0</th>\n",
       "      <td>[0.5386810998869163, 0.4613189001130838]</td>\n",
       "    </tr>\n",
       "  </tbody>\n",
       "</table>\n",
       "</div>"
      ],
      "text/plain": [
       "                                probability\n",
       "0  [0.5386810998869163, 0.4613189001130838]"
      ]
     },
     "execution_count": 82,
     "metadata": {},
     "output_type": "execute_result"
    }
   ],
   "source": [
    "probability"
   ]
  },
  {
   "cell_type": "code",
   "execution_count": null,
   "metadata": {},
   "outputs": [],
   "source": []
  }
 ],
 "metadata": {
  "kernelspec": {
   "display_name": "Python 3",
   "language": "python",
   "name": "python3"
  },
  "language_info": {
   "codemirror_mode": {
    "name": "ipython",
    "version": 3
   },
   "file_extension": ".py",
   "mimetype": "text/x-python",
   "name": "python",
   "nbconvert_exporter": "python",
   "pygments_lexer": "ipython3",
   "version": "3.6.9"
  }
 },
 "nbformat": 4,
 "nbformat_minor": 2
}
