{
 "cells": [
  {
   "cell_type": "code",
   "execution_count": 2,
   "metadata": {},
   "outputs": [],
   "source": [
    "# load these packages\n",
    "from pyspark.sql import SparkSession\n",
    "spark = SparkSession.builder.getOrCreate()\n",
    "sc = spark.sparkContext\n",
    "\n",
    "import matplotlib.pyplot as plt\n",
    "import seaborn as sns\n",
    "import pandas as pd\n",
    "import numpy as np\n",
    "\n",
    "from pyspark.ml import feature, regression, evaluation, Pipeline, clustering, classification\n",
    "from pyspark.ml.evaluation import BinaryClassificationEvaluator, MulticlassClassificationEvaluator, RegressionEvaluator\n",
    "from pyspark.ml.tuning import CrossValidator, ParamGridBuilder\n",
    "from pyspark.ml.feature import Bucketizer\n",
    "\n",
    "import pyspark.sql.functions as f\n",
    "from pyspark.sql import functions as fn, Row\n",
    "from pyspark.sql.functions import when, lit, udf, year, month, dayofmonth, hour\n",
    "from pyspark.sql.types import *\n"
   ]
  },
  {
   "cell_type": "code",
   "execution_count": 3,
   "metadata": {},
   "outputs": [],
   "source": [
    "data = spark.read.csv('data.csv', inferSchema=True, header=True)"
   ]
  },
  {
   "cell_type": "markdown",
   "metadata": {},
   "source": [
    "# 1. Basic Dataset Inspection"
   ]
  },
  {
   "cell_type": "code",
   "execution_count": 4,
   "metadata": {},
   "outputs": [
    {
     "data": {
      "text/html": [
       "<div>\n",
       "<style scoped>\n",
       "    .dataframe tbody tr th:only-of-type {\n",
       "        vertical-align: middle;\n",
       "    }\n",
       "\n",
       "    .dataframe tbody tr th {\n",
       "        vertical-align: top;\n",
       "    }\n",
       "\n",
       "    .dataframe thead th {\n",
       "        text-align: right;\n",
       "    }\n",
       "</style>\n",
       "<table border=\"1\" class=\"dataframe\">\n",
       "  <thead>\n",
       "    <tr style=\"text-align: right;\">\n",
       "      <th></th>\n",
       "      <th>Year</th>\n",
       "      <th>Crash Descriptor</th>\n",
       "      <th>Time</th>\n",
       "      <th>Date</th>\n",
       "      <th>Day of Week</th>\n",
       "      <th>Police Report</th>\n",
       "      <th>Lighting Conditions</th>\n",
       "      <th>Municipality</th>\n",
       "      <th>Collision Type Descriptor</th>\n",
       "      <th>County Name</th>\n",
       "      <th>Road Descriptor</th>\n",
       "      <th>Weather Conditions</th>\n",
       "      <th>Traffic Control Device</th>\n",
       "      <th>Road Surface Conditions</th>\n",
       "      <th>DOT Reference Marker Location</th>\n",
       "      <th>Pedestrian Bicyclist Action</th>\n",
       "      <th>Event Descriptor</th>\n",
       "      <th>Number of Vehicles Involved</th>\n",
       "    </tr>\n",
       "  </thead>\n",
       "  <tbody>\n",
       "    <tr>\n",
       "      <th>0</th>\n",
       "      <td>2016</td>\n",
       "      <td>Property Damage Accident</td>\n",
       "      <td>17:14</td>\n",
       "      <td>12/31/2016</td>\n",
       "      <td>Saturday</td>\n",
       "      <td>Y</td>\n",
       "      <td>Dark-Road Unlighted</td>\n",
       "      <td>MARTINSBURG</td>\n",
       "      <td>OTHER</td>\n",
       "      <td>LEWIS</td>\n",
       "      <td>Curve and Grade</td>\n",
       "      <td>Cloudy</td>\n",
       "      <td>None</td>\n",
       "      <td>Wet</td>\n",
       "      <td>26 74061244</td>\n",
       "      <td>Not Applicable</td>\n",
       "      <td>Deer</td>\n",
       "      <td>1</td>\n",
       "    </tr>\n",
       "    <tr>\n",
       "      <th>1</th>\n",
       "      <td>2016</td>\n",
       "      <td>Property Damage Accident</td>\n",
       "      <td>5:30</td>\n",
       "      <td>12/31/2016</td>\n",
       "      <td>Saturday</td>\n",
       "      <td>Y</td>\n",
       "      <td>Dark-Road Unlighted</td>\n",
       "      <td>BROOKHAVEN</td>\n",
       "      <td>SIDESWIPE</td>\n",
       "      <td>SUFFOLK</td>\n",
       "      <td>Straight and Level</td>\n",
       "      <td>Clear</td>\n",
       "      <td>None</td>\n",
       "      <td>Dry</td>\n",
       "      <td>None</td>\n",
       "      <td>Not Applicable</td>\n",
       "      <td>Other Motor Vehicle, Collision With</td>\n",
       "      <td>2</td>\n",
       "    </tr>\n",
       "  </tbody>\n",
       "</table>\n",
       "</div>"
      ],
      "text/plain": [
       "   Year          Crash Descriptor   Time        Date Day of Week  \\\n",
       "0  2016  Property Damage Accident  17:14  12/31/2016    Saturday   \n",
       "1  2016  Property Damage Accident   5:30  12/31/2016    Saturday   \n",
       "\n",
       "  Police Report  Lighting Conditions Municipality Collision Type Descriptor  \\\n",
       "0             Y  Dark-Road Unlighted  MARTINSBURG                     OTHER   \n",
       "1             Y  Dark-Road Unlighted   BROOKHAVEN                 SIDESWIPE   \n",
       "\n",
       "  County Name     Road Descriptor Weather Conditions Traffic Control Device  \\\n",
       "0       LEWIS     Curve and Grade             Cloudy                   None   \n",
       "1     SUFFOLK  Straight and Level              Clear                   None   \n",
       "\n",
       "  Road Surface Conditions DOT Reference Marker Location  \\\n",
       "0                     Wet                   26 74061244   \n",
       "1                     Dry                          None   \n",
       "\n",
       "  Pedestrian Bicyclist Action                     Event Descriptor  \\\n",
       "0              Not Applicable                                 Deer   \n",
       "1              Not Applicable  Other Motor Vehicle, Collision With   \n",
       "\n",
       "   Number of Vehicles Involved  \n",
       "0                            1  \n",
       "1                            2  "
      ]
     },
     "execution_count": 4,
     "metadata": {},
     "output_type": "execute_result"
    }
   ],
   "source": [
    "data.limit(2).toPandas()"
   ]
  },
  {
   "cell_type": "code",
   "execution_count": 5,
   "metadata": {},
   "outputs": [
    {
     "name": "stdout",
     "output_type": "stream",
     "text": [
      "root\n",
      " |-- Year: integer (nullable = true)\n",
      " |-- Crash Descriptor: string (nullable = true)\n",
      " |-- Time: string (nullable = true)\n",
      " |-- Date: string (nullable = true)\n",
      " |-- Day of Week: string (nullable = true)\n",
      " |-- Police Report: string (nullable = true)\n",
      " |-- Lighting Conditions: string (nullable = true)\n",
      " |-- Municipality: string (nullable = true)\n",
      " |-- Collision Type Descriptor: string (nullable = true)\n",
      " |-- County Name: string (nullable = true)\n",
      " |-- Road Descriptor: string (nullable = true)\n",
      " |-- Weather Conditions: string (nullable = true)\n",
      " |-- Traffic Control Device: string (nullable = true)\n",
      " |-- Road Surface Conditions: string (nullable = true)\n",
      " |-- DOT Reference Marker Location: string (nullable = true)\n",
      " |-- Pedestrian Bicyclist Action: string (nullable = true)\n",
      " |-- Event Descriptor: string (nullable = true)\n",
      " |-- Number of Vehicles Involved: integer (nullable = true)\n",
      "\n"
     ]
    }
   ],
   "source": [
    "data.printSchema()"
   ]
  },
  {
   "cell_type": "code",
   "execution_count": 6,
   "metadata": {},
   "outputs": [
    {
     "data": {
      "text/plain": [
       "(895916, 18)"
      ]
     },
     "execution_count": 6,
     "metadata": {},
     "output_type": "execute_result"
    }
   ],
   "source": [
    "data.count(), len(data.columns)"
   ]
  },
  {
   "cell_type": "code",
   "execution_count": 7,
   "metadata": {},
   "outputs": [
    {
     "name": "stdout",
     "output_type": "stream",
     "text": [
      "+--------------------+------+\n",
      "|    Crash Descriptor| count|\n",
      "+--------------------+------+\n",
      "|     Injury Accident|183322|\n",
      "|Property Damage &...|171596|\n",
      "|Property Damage A...|538018|\n",
      "|      Fatal Accident|  2980|\n",
      "+--------------------+------+\n",
      "\n"
     ]
    }
   ],
   "source": [
    "Crashes = data.groupBy('Crash Descriptor').count()\n",
    "\n",
    "Crashes.show()"
   ]
  },
  {
   "cell_type": "code",
   "execution_count": 8,
   "metadata": {},
   "outputs": [
    {
     "name": "stdout",
     "output_type": "stream",
     "text": [
      "+-------+---------------------------+\n",
      "|summary|Number of Vehicles Involved|\n",
      "+-------+---------------------------+\n",
      "|  count|                     895916|\n",
      "|   mean|          1.776373008183803|\n",
      "| stddev|         0.6387171374051479|\n",
      "|    min|                          1|\n",
      "|    max|                         50|\n",
      "+-------+---------------------------+\n",
      "\n"
     ]
    }
   ],
   "source": [
    "data.describe(['Number of Vehicles Involved']).show()"
   ]
  },
  {
   "cell_type": "code",
   "execution_count": 8,
   "metadata": {},
   "outputs": [
    {
     "name": "stdout",
     "output_type": "stream",
     "text": [
      "+-----------+------+\n",
      "|Day of Week| count|\n",
      "+-----------+------+\n",
      "|  Wednesday|132954|\n",
      "|    Tuesday|131951|\n",
      "|     Friday|147681|\n",
      "|   Thursday|135332|\n",
      "|   Saturday|118697|\n",
      "|     Monday|128593|\n",
      "|     Sunday|100708|\n",
      "+-----------+------+\n",
      "\n"
     ]
    }
   ],
   "source": [
    "data.groupBy('Day of Week').count().show()"
   ]
  },
  {
   "cell_type": "code",
   "execution_count": 9,
   "metadata": {},
   "outputs": [
    {
     "data": {
      "image/png": "[encoded data removed]",
      "text/plain": [
       "<Figure size 360x360 with 1 Axes>"
      ]
     },
     "metadata": {},
     "output_type": "display_data"
    }
   ],
   "source": [
    "dff3 = pd.DataFrame({'Accidents': [357898, 538018]}, index=['Injury Accident', 'Property Accident'])\n",
    "plot = dff3.plot.pie(y='Accidents', figsize=(5, 5))"
   ]
  },
  {
   "cell_type": "markdown",
   "metadata": {},
   "source": [
    "# 2. Preprocessing"
   ]
  },
  {
   "cell_type": "markdown",
   "metadata": {},
   "source": [
    "## 2.1 Classify Instances: Injury- vs. Property Damage- Accidents"
   ]
  },
  {
   "cell_type": "code",
   "execution_count": 10,
   "metadata": {},
   "outputs": [
    {
     "name": "stdout",
     "output_type": "stream",
     "text": [
      "root\n",
      " |-- Year: integer (nullable = true)\n",
      " |-- Crash Descriptor: string (nullable = true)\n",
      " |-- Time: string (nullable = true)\n",
      " |-- Date: string (nullable = true)\n",
      " |-- Day of Week: string (nullable = true)\n",
      " |-- Police Report: string (nullable = true)\n",
      " |-- Lighting Conditions: string (nullable = true)\n",
      " |-- Municipality: string (nullable = true)\n",
      " |-- Collision Type Descriptor: string (nullable = true)\n",
      " |-- County Name: string (nullable = true)\n",
      " |-- Road Descriptor: string (nullable = true)\n",
      " |-- Weather Conditions: string (nullable = true)\n",
      " |-- Traffic Control Device: string (nullable = true)\n",
      " |-- Road Surface Conditions: string (nullable = true)\n",
      " |-- DOT Reference Marker Location: string (nullable = true)\n",
      " |-- Pedestrian Bicyclist Action: string (nullable = true)\n",
      " |-- Event Descriptor: string (nullable = true)\n",
      " |-- Number of Vehicles Involved: integer (nullable = true)\n",
      " |-- Accident Descriptor: integer (nullable = false)\n",
      "\n"
     ]
    }
   ],
   "source": [
    "# Creating a new column to classify instances: Property Damage Accident: 0, Injury Accident = 1\n",
    "df = data.withColumn('Accident Descriptor', when((data['Crash Descriptor'] == 'Property Damage & Injury Accident') | \n",
    "                                                 (data['Crash Descriptor'] == 'Injury Accident') | \n",
    "                                                 (data['Crash Descriptor'] == 'Fatal Accident'), 1).otherwise(0))\n",
    "df.printSchema()\n",
    "df_pd = df.toPandas()"
   ]
  },
  {
   "cell_type": "code",
   "execution_count": 11,
   "metadata": {},
   "outputs": [],
   "source": [
    "# Show overview of classfied instances\n",
    "Crashes1 = Crashes.withColumn('Accident Descriptor', when((data['Crash Descriptor'] == 'Property Damage & Injury Accident') | \n",
    "                                                 (data['Crash Descriptor'] == 'Injury Accident') | \n",
    "                                                 (data['Crash Descriptor'] == 'Fatal Accident'), 1).otherwise(0))\n",
    "Crashes_pd = Crashes1.toPandas()"
   ]
  },
  {
   "cell_type": "code",
   "execution_count": 12,
   "metadata": {},
   "outputs": [
    {
     "data": {
      "text/html": [
       "<div>\n",
       "<style scoped>\n",
       "    .dataframe tbody tr th:only-of-type {\n",
       "        vertical-align: middle;\n",
       "    }\n",
       "\n",
       "    .dataframe tbody tr th {\n",
       "        vertical-align: top;\n",
       "    }\n",
       "\n",
       "    .dataframe thead th {\n",
       "        text-align: right;\n",
       "    }\n",
       "</style>\n",
       "<table border=\"1\" class=\"dataframe\">\n",
       "  <thead>\n",
       "    <tr style=\"text-align: right;\">\n",
       "      <th></th>\n",
       "      <th>Crash Descriptor</th>\n",
       "      <th>count</th>\n",
       "      <th>Accident Descriptor</th>\n",
       "    </tr>\n",
       "  </thead>\n",
       "  <tbody>\n",
       "    <tr>\n",
       "      <th>0</th>\n",
       "      <td>Injury Accident</td>\n",
       "      <td>183322</td>\n",
       "      <td>1</td>\n",
       "    </tr>\n",
       "    <tr>\n",
       "      <th>1</th>\n",
       "      <td>Property Damage &amp; Injury Accident</td>\n",
       "      <td>171596</td>\n",
       "      <td>1</td>\n",
       "    </tr>\n",
       "    <tr>\n",
       "      <th>2</th>\n",
       "      <td>Property Damage Accident</td>\n",
       "      <td>538018</td>\n",
       "      <td>0</td>\n",
       "    </tr>\n",
       "    <tr>\n",
       "      <th>3</th>\n",
       "      <td>Fatal Accident</td>\n",
       "      <td>2980</td>\n",
       "      <td>1</td>\n",
       "    </tr>\n",
       "  </tbody>\n",
       "</table>\n",
       "</div>"
      ],
      "text/plain": [
       "                    Crash Descriptor   count  Accident Descriptor\n",
       "0                    Injury Accident  183322                    1\n",
       "1  Property Damage & Injury Accident  171596                    1\n",
       "2           Property Damage Accident  538018                    0\n",
       "3                     Fatal Accident    2980                    1"
      ]
     },
     "execution_count": 12,
     "metadata": {},
     "output_type": "execute_result"
    }
   ],
   "source": [
    "Crashes_pd"
   ]
  },
  {
   "cell_type": "markdown",
   "metadata": {},
   "source": [
    "# 3. Data Exploration"
   ]
  },
  {
   "cell_type": "markdown",
   "metadata": {},
   "source": [
    "### 1. Time"
   ]
  },
  {
   "cell_type": "code",
   "execution_count": 13,
   "metadata": {},
   "outputs": [],
   "source": [
    "# 5 Buckets: 0-4, 5-11, 12-16, 17-22, 23-34\n",
    "df_time = df.withColumn('Hour', hour('Time'))\n",
    "bucketizer = Bucketizer(splits=[0,5,12,17,23,24],inputCol=\"Hour\", outputCol=\"Hour_buckets\")\n",
    "df_time2 = bucketizer.setHandleInvalid(\"keep\").transform(df_time)"
   ]
  },
  {
   "cell_type": "code",
   "execution_count": 14,
   "metadata": {},
   "outputs": [],
   "source": [
    "# 5 Buckets: 0-4 = Night, 5-11 = Morning, 12-16 = Afternoon, 17-22 = Evening, 23-34 = Night\n",
    "t = {0.0:\"Night\", 1.0: \"Morning\", 2.0:\"Afternoon\", 3.0: \"Evening\", 4.0:\"Night\"}\n",
    "udf_foo = udf(lambda x: t[x], StringType())\n",
    "df_time3 = df_time2.withColumn(\"Time of the Day\", udf_foo(\"Hour_buckets\"))\n",
    "df_time3_pd = df_time3.toPandas()"
   ]
  },
  {
   "cell_type": "code",
   "execution_count": 15,
   "metadata": {},
   "outputs": [],
   "source": [
    "Injuries = df_time3.filter((f.col('Accident Descriptor') == 1)).toPandas()\n",
    "Injuries1 = df_time3.filter((f.col('Accident Descriptor') == 1))\n",
    "\n",
    "No_Injuries = df_time3.filter((f.col('Accident Descriptor') == 0)).toPandas()\n",
    "No_Injuries1 = df_time3.filter((f.col('Accident Descriptor') == 0))"
   ]
  },
  {
   "cell_type": "code",
   "execution_count": 16,
   "metadata": {},
   "outputs": [],
   "source": [
    "time = pd.DataFrame(Injuries['Time of the Day'].value_counts())\n",
    "time2 = pd.DataFrame(No_Injuries['Time of the Day'].value_counts())\n",
    "\n",
    "time['Time Share'] = time['Time of the Day']/sum(time['Time of the Day'])\n",
    "time['Accident Descriptor'] = 'Injury Accident'\n",
    "\n",
    "time2['Time Share'] = time2['Time of the Day']/sum(time2['Time of the Day'])\n",
    "time2['Accident Descriptor'] = 'Property Damage Accident'\n",
    "\n",
    "time3 = pd.concat([time, time2], axis=0)\n",
    "time3['Time Descriptor'] = time3.index"
   ]
  },
  {
   "cell_type": "code",
   "execution_count": 17,
   "metadata": {},
   "outputs": [
    {
     "data": {
      "text/html": [
       "<div>\n",
       "<style scoped>\n",
       "    .dataframe tbody tr th:only-of-type {\n",
       "        vertical-align: middle;\n",
       "    }\n",
       "\n",
       "    .dataframe tbody tr th {\n",
       "        vertical-align: top;\n",
       "    }\n",
       "\n",
       "    .dataframe thead th {\n",
       "        text-align: right;\n",
       "    }\n",
       "</style>\n",
       "<table border=\"1\" class=\"dataframe\">\n",
       "  <thead>\n",
       "    <tr style=\"text-align: right;\">\n",
       "      <th></th>\n",
       "      <th>Time of the Day</th>\n",
       "      <th>Time Share</th>\n",
       "      <th>Accident Descriptor</th>\n",
       "      <th>Time Descriptor</th>\n",
       "    </tr>\n",
       "  </thead>\n",
       "  <tbody>\n",
       "    <tr>\n",
       "      <th>Afternoon</th>\n",
       "      <td>119724</td>\n",
       "      <td>0.334520</td>\n",
       "      <td>Injury Accident</td>\n",
       "      <td>Afternoon</td>\n",
       "    </tr>\n",
       "    <tr>\n",
       "      <th>Evening</th>\n",
       "      <td>106388</td>\n",
       "      <td>0.297258</td>\n",
       "      <td>Injury Accident</td>\n",
       "      <td>Evening</td>\n",
       "    </tr>\n",
       "    <tr>\n",
       "      <th>Morning</th>\n",
       "      <td>97614</td>\n",
       "      <td>0.272743</td>\n",
       "      <td>Injury Accident</td>\n",
       "      <td>Morning</td>\n",
       "    </tr>\n",
       "    <tr>\n",
       "      <th>Night</th>\n",
       "      <td>34172</td>\n",
       "      <td>0.095480</td>\n",
       "      <td>Injury Accident</td>\n",
       "      <td>Night</td>\n",
       "    </tr>\n",
       "    <tr>\n",
       "      <th>Afternoon</th>\n",
       "      <td>164047</td>\n",
       "      <td>0.304910</td>\n",
       "      <td>Property Damage Accident</td>\n",
       "      <td>Afternoon</td>\n",
       "    </tr>\n",
       "    <tr>\n",
       "      <th>Morning</th>\n",
       "      <td>158806</td>\n",
       "      <td>0.295169</td>\n",
       "      <td>Property Damage Accident</td>\n",
       "      <td>Morning</td>\n",
       "    </tr>\n",
       "    <tr>\n",
       "      <th>Evening</th>\n",
       "      <td>147066</td>\n",
       "      <td>0.273348</td>\n",
       "      <td>Property Damage Accident</td>\n",
       "      <td>Evening</td>\n",
       "    </tr>\n",
       "    <tr>\n",
       "      <th>Night</th>\n",
       "      <td>68099</td>\n",
       "      <td>0.126574</td>\n",
       "      <td>Property Damage Accident</td>\n",
       "      <td>Night</td>\n",
       "    </tr>\n",
       "  </tbody>\n",
       "</table>\n",
       "</div>"
      ],
      "text/plain": [
       "           Time of the Day  Time Share       Accident Descriptor  \\\n",
       "Afternoon           119724    0.334520           Injury Accident   \n",
       "Evening             106388    0.297258           Injury Accident   \n",
       "Morning              97614    0.272743           Injury Accident   \n",
       "Night                34172    0.095480           Injury Accident   \n",
       "Afternoon           164047    0.304910  Property Damage Accident   \n",
       "Morning             158806    0.295169  Property Damage Accident   \n",
       "Evening             147066    0.273348  Property Damage Accident   \n",
       "Night                68099    0.126574  Property Damage Accident   \n",
       "\n",
       "          Time Descriptor  \n",
       "Afternoon       Afternoon  \n",
       "Evening           Evening  \n",
       "Morning           Morning  \n",
       "Night               Night  \n",
       "Afternoon       Afternoon  \n",
       "Morning           Morning  \n",
       "Evening           Evening  \n",
       "Night               Night  "
      ]
     },
     "execution_count": 17,
     "metadata": {},
     "output_type": "execute_result"
    }
   ],
   "source": [
    "time3"
   ]
  },
  {
   "cell_type": "code",
   "execution_count": 18,
   "metadata": {},
   "outputs": [
    {
     "data": {
      "image/png": "[encoded data removed]",
      "text/plain": [
       "<Figure size 432x288 with 1 Axes>"
      ]
     },
     "metadata": {
      "needs_background": "light"
     },
     "output_type": "display_data"
    }
   ],
   "source": [
    "time3.pivot(\"Time Descriptor\", \"Accident Descriptor\", \"Time Share\").plot(kind='bar')\n",
    "plt.ylabel('Time of the Day')\n",
    "plt.show()"
   ]
  },
  {
   "cell_type": "markdown",
   "metadata": {},
   "source": [
    "### 2. Road Conditions"
   ]
  },
  {
   "cell_type": "code",
   "execution_count": 19,
   "metadata": {},
   "outputs": [],
   "source": [
    "road = pd.DataFrame(Injuries['Road Descriptor'].value_counts())\n",
    "road2 = pd.DataFrame(No_Injuries['Road Descriptor'].value_counts())\n",
    "\n",
    "road['Road Descriptor Share'] = road['Road Descriptor']/sum(road['Road Descriptor'])\n",
    "road['Accident Descriptor'] = 'Injury Accident'\n",
    "\n",
    "road2['Road Descriptor Share'] = road2['Road Descriptor']/sum(road2['Road Descriptor'])\n",
    "road2['Accident Descriptor'] = 'Property Damage Accident'\n",
    "\n",
    "road3 = pd.concat([road, road2], axis=0)\n",
    "road3['Road Description'] = road3.index"
   ]
  },
  {
   "cell_type": "code",
   "execution_count": 20,
   "metadata": {},
   "outputs": [
    {
     "data": {
      "image/png": "[encoded data removed]",
      "text/plain": [
       "<Figure size 432x288 with 1 Axes>"
      ]
     },
     "metadata": {
      "needs_background": "light"
     },
     "output_type": "display_data"
    }
   ],
   "source": [
    "road3.pivot(\"Road Description\", \"Accident Descriptor\", \"Road Descriptor Share\").plot(kind='bar')\n",
    "plt.ylabel('Share of Accidents')\n",
    "plt.show()"
   ]
  },
  {
   "cell_type": "markdown",
   "metadata": {},
   "source": [
    "### 3. Weekday"
   ]
  },
  {
   "cell_type": "code",
   "execution_count": 21,
   "metadata": {},
   "outputs": [],
   "source": [
    "day = pd.DataFrame(Injuries['Day of Week'].value_counts())\n",
    "day2 = pd.DataFrame(No_Injuries['Day of Week'].value_counts())\n",
    "\n",
    "day['Day of Week Share'] = day['Day of Week']/sum(day['Day of Week'])\n",
    "day['Accident Descriptor'] = 'Injury Accident'\n",
    "\n",
    "day2['Day of Week Share'] = day2['Day of Week']/sum(day2['Day of Week'])\n",
    "day2['Accident Descriptor'] = 'Property Damage Accident'\n",
    "\n",
    "day3 = pd.concat([day, day2], axis=0)\n",
    "day3['Day of Week'] = day3.index"
   ]
  },
  {
   "cell_type": "code",
   "execution_count": 22,
   "metadata": {},
   "outputs": [
    {
     "data": {
      "image/png": "[encoded data removed]",
      "text/plain": [
       "<Figure size 432x288 with 1 Axes>"
      ]
     },
     "metadata": {
      "needs_background": "light"
     },
     "output_type": "display_data"
    }
   ],
   "source": [
    "day3.pivot(\"Day of Week\", \"Accident Descriptor\", \"Day of Week Share\").plot(kind='bar')\n",
    "plt.ylabel('Share of Weekdays')\n",
    "plt.show()"
   ]
  },
  {
   "cell_type": "markdown",
   "metadata": {},
   "source": [
    "### 4. Road Surface Conditions"
   ]
  },
  {
   "cell_type": "code",
   "execution_count": 23,
   "metadata": {},
   "outputs": [],
   "source": [
    "surface = pd.DataFrame(Injuries['Road Surface Conditions'].value_counts())\n",
    "surface2 = pd.DataFrame(No_Injuries['Road Surface Conditions'].value_counts())\n",
    "\n",
    "surface['Road Surface Condition Share'] = surface['Road Surface Conditions']/sum(surface['Road Surface Conditions'])\n",
    "surface['Accident Descriptor'] = 'Injury Accident'\n",
    "\n",
    "surface2['Road Surface Condition Share'] = surface2['Road Surface Conditions']/sum(surface2['Road Surface Conditions'])\n",
    "surface2['Accident Descriptor'] = 'Property Damage Accident'\n",
    "\n",
    "surface3 = pd.concat([surface, surface2], axis=0)\n",
    "surface3['Surface Condition'] = surface3.index"
   ]
  },
  {
   "cell_type": "code",
   "execution_count": 24,
   "metadata": {},
   "outputs": [
    {
     "data": {
      "image/png": "[encoded data removed]",
      "text/plain": [
       "<Figure size 432x288 with 1 Axes>"
      ]
     },
     "metadata": {
      "needs_background": "light"
     },
     "output_type": "display_data"
    }
   ],
   "source": [
    "surface3.pivot(\"Surface Condition\", \"Accident Descriptor\", \"Road Surface Condition Share\").plot(kind='bar')\n",
    "plt.ylabel('Share of Road Surface Condition')\n",
    "plt.show()"
   ]
  },
  {
   "cell_type": "markdown",
   "metadata": {},
   "source": [
    "### 5. Weather Conditions"
   ]
  },
  {
   "cell_type": "code",
   "execution_count": 25,
   "metadata": {},
   "outputs": [],
   "source": [
    "weather = pd.DataFrame(Injuries['Weather Conditions'].value_counts())\n",
    "weather2 = pd.DataFrame(No_Injuries['Weather Conditions'].value_counts())\n",
    "\n",
    "weather['Weather Condition Share'] = weather['Weather Conditions']/sum(weather['Weather Conditions'])\n",
    "weather['Accident Descriptor'] = 'Injury Accident'\n",
    "\n",
    "weather2['Weather Condition Share'] = weather2['Weather Conditions']/sum(weather2['Weather Conditions'])\n",
    "weather2['Accident Descriptor'] = 'Property Damage Accident'\n",
    "\n",
    "weather3 = pd.concat([weather, weather2], axis=0)\n",
    "weather3['Weather Condition'] = weather3.index"
   ]
  },
  {
   "cell_type": "code",
   "execution_count": 26,
   "metadata": {},
   "outputs": [
    {
     "data": {
      "image/png": "[encoded data removed]",
      "text/plain": [
       "<Figure size 432x288 with 1 Axes>"
      ]
     },
     "metadata": {
      "needs_background": "light"
     },
     "output_type": "display_data"
    }
   ],
   "source": [
    "weather3.pivot(\"Weather Condition\", \"Accident Descriptor\", \"Weather Condition Share\").plot(kind='bar')\n",
    "plt.ylabel('Share of Weather Condition')\n",
    "plt.show()"
   ]
  },
  {
   "cell_type": "markdown",
   "metadata": {},
   "source": [
    "### 6. Event Descriptor"
   ]
  },
  {
   "cell_type": "code",
   "execution_count": 27,
   "metadata": {},
   "outputs": [],
   "source": [
    "event = pd.DataFrame(Injuries['Event Descriptor'].value_counts())\n",
    "event2 = pd.DataFrame(No_Injuries['Event Descriptor'].value_counts())\n",
    "\n",
    "event['Event Share'] = event['Event Descriptor']/sum(event['Event Descriptor'])\n",
    "event['Accident Descriptor'] = 'Injury Accident'\n",
    "\n",
    "event2['Event Share'] = event2['Event Descriptor']/sum(event2['Event Descriptor'])\n",
    "event2['Accident Descriptor'] = 'Property Damage Accident'\n",
    "\n",
    "event3 = pd.concat([event, event2], axis=0)\n",
    "event3['Event Descriptor'] = event3.index"
   ]
  },
  {
   "cell_type": "code",
   "execution_count": 28,
   "metadata": {},
   "outputs": [],
   "source": [
    "event3_filtered = event3[event3['Event Share'] > 0.03]"
   ]
  },
  {
   "cell_type": "code",
   "execution_count": 29,
   "metadata": {},
   "outputs": [
    {
     "data": {
      "image/png": "[encoded data removed]",
      "text/plain": [
       "<Figure size 432x288 with 1 Axes>"
      ]
     },
     "metadata": {
      "needs_background": "light"
     },
     "output_type": "display_data"
    }
   ],
   "source": [
    "event3_filtered.pivot(\"Event Descriptor\", \"Accident Descriptor\", \"Event Share\").plot(kind='bar')\n",
    "plt.ylabel('Share of Weather Condition')\n",
    "plt.show()"
   ]
  },
  {
   "cell_type": "markdown",
   "metadata": {},
   "source": [
    "### 7. Lighting Conditions"
   ]
  },
  {
   "cell_type": "code",
   "execution_count": 30,
   "metadata": {},
   "outputs": [],
   "source": [
    "Light = pd.DataFrame(Injuries['Lighting Conditions'].value_counts())\n",
    "Light2 = pd.DataFrame(No_Injuries['Lighting Conditions'].value_counts())\n",
    "\n",
    "Light['Lighting Conditions Share'] = Light['Lighting Conditions']/sum(Light['Lighting Conditions'])\n",
    "Light['Accident Descriptor'] = 'Injury Accident'\n",
    "\n",
    "Light2['Lighting Conditions Share'] = Light2['Lighting Conditions']/sum(Light2['Lighting Conditions'])\n",
    "Light2['Accident Descriptor'] = 'Property Damage Accident'\n",
    "\n",
    "Light3 = pd.concat([Light, Light2], axis=0)\n",
    "Light3['Lighting Conditions'] = Light3.index"
   ]
  },
  {
   "cell_type": "code",
   "execution_count": 31,
   "metadata": {},
   "outputs": [
    {
     "data": {
      "image/png": "[encoded data removed]",
      "text/plain": [
       "<Figure size 432x288 with 1 Axes>"
      ]
     },
     "metadata": {
      "needs_background": "light"
     },
     "output_type": "display_data"
    },
    {
     "name": "stderr",
     "output_type": "stream",
     "text": [
      "----------------------------------------\n",
      "Exception happened during processing of request from ('127.0.0.1', 47500)\n",
      "Traceback (most recent call last):\n",
      "  File \"/opt/conda/lib/python3.6/socketserver.py\", line 317, in _handle_request_noblock\n",
      "    self.process_request(request, client_address)\n",
      "  File \"/opt/conda/lib/python3.6/socketserver.py\", line 348, in process_request\n",
      "    self.finish_request(request, client_address)\n",
      "  File \"/opt/conda/lib/python3.6/socketserver.py\", line 361, in finish_request\n",
      "    self.RequestHandlerClass(request, client_address, self)\n",
      "  File \"/opt/conda/lib/python3.6/socketserver.py\", line 721, in __init__\n",
      "    self.handle()\n",
      "  File \"/usr/local/spark/python/pyspark/accumulators.py\", line 268, in handle\n",
      "    poll(accum_updates)\n",
      "  File \"/usr/local/spark/python/pyspark/accumulators.py\", line 241, in poll\n",
      "    if func():\n",
      "  File \"/usr/local/spark/python/pyspark/accumulators.py\", line 245, in accum_updates\n",
      "    num_updates = read_int(self.rfile)\n",
      "  File \"/usr/local/spark/python/pyspark/serializers.py\", line 714, in read_int\n",
      "    raise EOFError\n",
      "EOFError\n",
      "----------------------------------------\n"
     ]
    }
   ],
   "source": [
    "Light3.pivot(\"Lighting Conditions\", \"Accident Descriptor\", \"Lighting Conditions Share\").plot(kind='bar')\n",
    "plt.ylabel('Share of Weather Condition')\n",
    "plt.show()"
   ]
  },
  {
   "cell_type": "code",
   "execution_count": null,
   "metadata": {},
   "outputs": [],
   "source": []
  }
 ],
 "metadata": {
  "kernelspec": {
   "display_name": "Python 3",
   "language": "python",
   "name": "python3"
  },
  "language_info": {
   "codemirror_mode": {
    "name": "ipython",
    "version": 3
   },
   "file_extension": ".py",
   "mimetype": "text/x-python",
   "name": "python",
   "nbconvert_exporter": "python",
   "pygments_lexer": "ipython3",
   "version": "3.6.9"
  }
 },
 "nbformat": 4,
 "nbformat_minor": 2
}
